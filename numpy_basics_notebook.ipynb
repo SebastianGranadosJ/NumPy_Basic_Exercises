{
 "cells": [
  {
   "cell_type": "markdown",
   "id": "d51f045a",
   "metadata": {},
   "source": [
    "# NumPy Basics Notebook\n",
    "\n",
    "### In this notebook you can find some basic knowledge about the NumPy library.\n"
   ]
  },
  {
   "cell_type": "code",
   "execution_count": 3,
   "id": "35590bc7",
   "metadata": {},
   "outputs": [
    {
     "name": "stdout",
     "output_type": "stream",
     "text": [
      "<class 'numpy.ndarray'>\n"
     ]
    }
   ],
   "source": [
    "import numpy as np\n",
    "\n",
    "np_array = np.array([[7, 77, 777], [8,88,888], [8,88,888]]) # I Create an ndarray with this function, 1 dimension, n-dimentions\n",
    "#Its a multidemensional array\n",
    "\n",
    "print(type(np_array))"
   ]
  },
  {
   "cell_type": "code",
   "execution_count": 4,
   "id": "f66d9872",
   "metadata": {},
   "outputs": [
    {
     "name": "stdout",
     "output_type": "stream",
     "text": [
      "<class 'tuple'>\n",
      "(3, 3)\n",
      "[[  7  77 777]\n",
      " [  8  88 888]\n",
      " [  8  88 888]]\n"
     ]
    }
   ],
   "source": [
    "\n",
    "# I print array's shape(form)\n",
    "\n",
    "print(type(np_array.shape)) # tuple is a list, but inmutable\n",
    "\n",
    "print(np_array.shape) # 2 rows and 3 columns\n",
    "print(np_array)"
   ]
  },
  {
   "cell_type": "code",
   "execution_count": 5,
   "id": "1d8a6052",
   "metadata": {},
   "outputs": [
    {
     "name": "stdout",
     "output_type": "stream",
     "text": [
      "7\n",
      "77\n",
      "777\n",
      "8\n",
      "88\n",
      "888\n",
      "1203\n"
     ]
    }
   ],
   "source": [
    "print(np_array[0][0])\n",
    "print(np_array[0][1])\n",
    "print(np_array[0][2])\n",
    "\n",
    "print(np_array[1][0])\n",
    "print(np_array[1][1])\n",
    "print(np_array[1][2])\n",
    "\n",
    "np_array[0][0] = 1203\n",
    "\n",
    "print(np_array[0][0])\n",
    "\n",
    "#Its the same as python list\n"
   ]
  },
  {
   "cell_type": "code",
   "execution_count": 6,
   "id": "2b0e0a5e",
   "metadata": {},
   "outputs": [
    {
     "name": "stdout",
     "output_type": "stream",
     "text": [
      "The shape of np_array2 its:  (3, 3)\n",
      "[[33 21 55]\n",
      " [67 82 12]\n",
      " [74 12 37]]\n"
     ]
    }
   ],
   "source": [
    "# Important for 3 dimensions array, 1 dimension = arrays, 2 = rows, 3= columns\n",
    "\n",
    "\n",
    "np_array2 = np.array([[33,21,55],[67,82,12],[74,12,37]])\n",
    "\n",
    "print(\"The shape of np_array2 its: \", np_array2.shape)\n",
    "print(np_array2)\n",
    "# Its a matris"
   ]
  },
  {
   "cell_type": "markdown",
   "id": "a4e3a04a",
   "metadata": {},
   "source": [
    "<img src = \"https://i0.wp.com/indianaiproduction.com/wp-content/uploads/2019/06/NumPy-array.png?resize=640%2C307&ssl=1\">\n"
   ]
  },
  {
   "cell_type": "markdown",
   "id": "115a3f46",
   "metadata": {},
   "source": [
    "## Ways to create ndarrays\n"
   ]
  },
  {
   "cell_type": "code",
   "execution_count": 7,
   "id": "e08e85c9",
   "metadata": {},
   "outputs": [
    {
     "name": "stdout",
     "output_type": "stream",
     "text": [
      "[[0. 0. 0. ... 0. 0. 0.]\n",
      " [0. 0. 0. ... 0. 0. 0.]\n",
      " [0. 0. 0. ... 0. 0. 0.]\n",
      " ...\n",
      " [0. 0. 0. ... 0. 0. 0.]\n",
      " [0. 0. 0. ... 0. 0. 0.]\n",
      " [0. 0. 0. ... 0. 0. 0.]]\n",
      "\n",
      "-----------------\n",
      "\n",
      "[[0. 0. 0.]\n",
      " [0. 0. 0.]\n",
      " [0. 0. 0.]\n",
      " [0. 0. 0.]\n",
      " [0. 0. 0.]]\n"
     ]
    }
   ],
   "source": [
    "# ZEROS METHOD\n",
    "\n",
    "ej1 = np.zeros((1080,1920))# 1080 array with 1920 elements, we are doing an HD img, also its 1080 rows and 1920 columns\n",
    "#zeros method creates an array full of zeros\n",
    "\n",
    "\n",
    "print(ej1)\n",
    "\n",
    "print(\"\")\n",
    "print(\"-----------------\")\n",
    "print(\"\")\n",
    "ej1 = np.zeros((5,3))\n",
    "print(ej1)"
   ]
  },
  {
   "cell_type": "code",
   "execution_count": 8,
   "id": "87fd13d3",
   "metadata": {},
   "outputs": [
    {
     "name": "stdout",
     "output_type": "stream",
     "text": [
      "[['python' 'python']\n",
      " ['python' 'python']]\n",
      "\n",
      "\n",
      "\n",
      "[[35.3 35.3]\n",
      " [35.3 35.3]]\n",
      "\n",
      "\n",
      "\n",
      "[[[8 8 8 8]\n",
      "  [8 8 8 8]\n",
      "  [8 8 8 8]]\n",
      "\n",
      " [[8 8 8 8]\n",
      "  [8 8 8 8]\n",
      "  [8 8 8 8]]]\n"
     ]
    }
   ],
   "source": [
    "# FULL METHOD\n",
    "\n",
    "ej2 = np.full((2,2), \"python\") # This method fills with a number an ndarray, firs parameter its ndarray's shape and the second one its\n",
    "# the number/element\n",
    "print(ej2)\n",
    "\n",
    "print(\"\")\n",
    "print(\"\")\n",
    "print(\"\")\n",
    "\n",
    "ej2 = np.full((2,2), 35.3) \n",
    "print(ej2)\n",
    "\n",
    "print(\"\")\n",
    "print(\"\")\n",
    "print(\"\")\n",
    "\n",
    "ej2 = np.full((2,3,4), 8 )\n",
    "print(ej2)"
   ]
  },
  {
   "cell_type": "code",
   "execution_count": 9,
   "id": "f47e9e0c",
   "metadata": {},
   "outputs": [
    {
     "name": "stdout",
     "output_type": "stream",
     "text": [
      "[[1. 0. 0. 0. 0.]\n",
      " [0. 1. 0. 0. 0.]\n",
      " [0. 0. 1. 0. 0.]\n",
      " [0. 0. 0. 1. 0.]\n",
      " [0. 0. 0. 0. 1.]]\n"
     ]
    }
   ],
   "source": [
    "# EYE METHOD\n",
    "\n",
    "ej3 = np.eye(5,5) # creates an ndarray with an diagonal of 1\n",
    "print(ej3)\n"
   ]
  },
  {
   "cell_type": "code",
   "execution_count": 10,
   "id": "cfc48c91",
   "metadata": {},
   "outputs": [
    {
     "name": "stdout",
     "output_type": "stream",
     "text": [
      "[[[1. 1.]\n",
      "  [1. 1.]\n",
      "  [1. 1.]\n",
      "  [1. 1.]\n",
      "  [1. 1.]]\n",
      "\n",
      " [[1. 1.]\n",
      "  [1. 1.]\n",
      "  [1. 1.]\n",
      "  [1. 1.]\n",
      "  [1. 1.]]\n",
      "\n",
      " [[1. 1.]\n",
      "  [1. 1.]\n",
      "  [1. 1.]\n",
      "  [1. 1.]\n",
      "  [1. 1.]]]\n"
     ]
    }
   ],
   "source": [
    "#ONES METHOD\n",
    "\n",
    "ej4 = np.ones((3,5,2)) #Creates a nparray or matrix filled with ones\n",
    "print(ej4)"
   ]
  },
  {
   "cell_type": "code",
   "execution_count": 11,
   "id": "8f497471",
   "metadata": {},
   "outputs": [
    {
     "name": "stdout",
     "output_type": "stream",
     "text": [
      "[[0.8313341  0.19244653 0.9328585  0.16264002 0.52606739]\n",
      " [0.69072789 0.76241787 0.9738432  0.61141115 0.93973138]\n",
      " [0.00844336 0.70691601 0.68538172 0.59679641 0.75895468]\n",
      " [0.85638411 0.33431299 0.09202494 0.39138849 0.45155538]\n",
      " [0.87221225 0.07221786 0.32931405 0.17658629 0.24596662]]\n"
     ]
    }
   ],
   "source": [
    "# CREATE A MATRIZ FILLED WITH RAMDOM FLOAT VALUES\n",
    "\n",
    "ej5 = np.random.random((5,5))\n",
    "print(ej5)"
   ]
  },
  {
   "cell_type": "markdown",
   "id": "79a4ff7f",
   "metadata": {},
   "source": [
    "## Array of indexes\n",
    "\n",
    "### Sometimes it is useful to make arrays with the indexes that interest me from another array, in order to operate on them.\n"
   ]
  },
  {
   "cell_type": "code",
   "execution_count": 12,
   "id": "08d14987",
   "metadata": {},
   "outputs": [
    {
     "name": "stdout",
     "output_type": "stream",
     "text": [
      "[[11 22 33]\n",
      " [25 37 98]\n",
      " [12 34 12]\n",
      " [51 21 54]]\n",
      "(4, 3)\n"
     ]
    }
   ],
   "source": [
    "array_a = np.array([[11,22,33], [25, 37,98], [12,34,12], [51,21,54]])\n",
    "print(array_a)\n",
    "print(array_a.shape)"
   ]
  },
  {
   "cell_type": "code",
   "execution_count": 13,
   "id": "13cee0af",
   "metadata": {},
   "outputs": [
    {
     "name": "stdout",
     "output_type": "stream",
     "text": [
      "These are rows indexes ->  [0 1 2 3]\n",
      "These are columns indexes -> [0 1 2 0]\n"
     ]
    }
   ],
   "source": [
    "rows = np.arange(4)\n",
    "cols = np.array([0,1,2,0])\n",
    "print(\"These are rows indexes -> \", rows)\n",
    "print(\"These are columns indexes ->\", cols)\n",
    "\n"
   ]
  },
  {
   "cell_type": "code",
   "execution_count": 14,
   "id": "efa5380e",
   "metadata": {},
   "outputs": [
    {
     "name": "stdout",
     "output_type": "stream",
     "text": [
      "( 0 , 0 )\n",
      "( 1 , 1 )\n",
      "( 2 , 2 )\n",
      "( 3 , 0 )\n"
     ]
    }
   ],
   "source": [
    "for row,col in zip(rows, cols): # zip merge two arrays un tuples\n",
    "    print(\"(\", row,\",\", col, \")\")"
   ]
  },
  {
   "cell_type": "code",
   "execution_count": 15,
   "id": "63534107",
   "metadata": {},
   "outputs": [
    {
     "name": "stdout",
     "output_type": "stream",
     "text": [
      "The values that are in these indexes are: [11 37 12 51]\n"
     ]
    }
   ],
   "source": [
    "print(\"The values that are in these indexes are:\",array_a[rows, cols])"
   ]
  },
  {
   "cell_type": "code",
   "execution_count": 16,
   "id": "3642cd52",
   "metadata": {},
   "outputs": [
    {
     "name": "stdout",
     "output_type": "stream",
     "text": [
      "[[11 22 33]\n",
      " [25 37 98]\n",
      " [12 34 12]\n",
      " [51 21 54]]\n",
      "\n",
      "\n",
      "\n",
      "[[ 21  32  43]\n",
      " [ 35  47 108]\n",
      " [ 22  44  22]\n",
      " [ 61  31  64]]\n",
      "\n",
      "\n",
      "\n",
      "[[1021   32   43]\n",
      " [  35 1047  108]\n",
      " [  22   44 1022]\n",
      " [1061   31   64]]\n"
     ]
    }
   ],
   "source": [
    "print(array_a)\n",
    "print(\"\\n\\n\")\n",
    "\n",
    "array_a += 10 \n",
    "print(array_a)\n",
    "\n",
    "print(\"\\n\\n\")\n",
    "array_a[rows, cols] += 1000\n",
    "print(array_a)"
   ]
  },
  {
   "cell_type": "markdown",
   "id": "998823e3",
   "metadata": {},
   "source": [
    "## Boolean Index\n",
    "### We can use conditionals or \"filters\" to modify and operate the elements of a ndarray"
   ]
  },
  {
   "cell_type": "code",
   "execution_count": 17,
   "id": "e4ffc65b",
   "metadata": {},
   "outputs": [
    {
     "name": "stdout",
     "output_type": "stream",
     "text": [
      "[[11 12]\n",
      " [21 22]\n",
      " [31 32]]\n",
      "------------\n",
      "(3, 2)\n"
     ]
    }
   ],
   "source": [
    "# Array 3x2\n",
    "array_b = np.array([[11, 12],[21,22], [31,32]])\n",
    "print(array_b)\n",
    "print(\"------------\")\n",
    "print(array_b.shape)"
   ]
  },
  {
   "cell_type": "code",
   "execution_count": 18,
   "id": "4b5c8f5e",
   "metadata": {},
   "outputs": [
    {
     "name": "stdout",
     "output_type": "stream",
     "text": [
      "[[False False]\n",
      " [False  True]\n",
      " [ True  True]]\n",
      "<class 'numpy.ndarray'>\n"
     ]
    }
   ],
   "source": [
    "#Create a filter \n",
    "\n",
    "filter = array_b > 21\n",
    "print(filter)\n",
    "print(type(filter))\n",
    "\n",
    "# filter generates a new matrix, in this matrix the elements that were greater than 15 will be true, the other will be false"
   ]
  },
  {
   "cell_type": "code",
   "execution_count": 19,
   "id": "33c8f7b8",
   "metadata": {},
   "outputs": [
    {
     "name": "stdout",
     "output_type": "stream",
     "text": [
      "[22 31 32]\n"
     ]
    }
   ],
   "source": [
    "filtered = array_b[filter]\n",
    "\n",
    "print(filtered)"
   ]
  },
  {
   "cell_type": "code",
   "execution_count": 20,
   "id": "9d463963",
   "metadata": {},
   "outputs": [
    {
     "name": "stdout",
     "output_type": "stream",
     "text": [
      "[12 22 32]\n"
     ]
    }
   ],
   "source": [
    "# a Faster way to apply the filter\n",
    "\n",
    "print(array_b[array_b % 2 == 0])"
   ]
  },
  {
   "cell_type": "markdown",
   "id": "0580d701",
   "metadata": {},
   "source": [
    "### The main use of these filters  its to allows us to modify some of the values of the array that meet certain conditions"
   ]
  },
  {
   "cell_type": "code",
   "execution_count": 21,
   "id": "4542aa29",
   "metadata": {},
   "outputs": [
    {
     "name": "stdout",
     "output_type": "stream",
     "text": [
      "[[   11 10012]\n",
      " [   21 10022]\n",
      " [   31 10032]]\n"
     ]
    }
   ],
   "source": [
    "array_b[(array_b %2 == 0)] += 10000\n",
    "\n",
    "print(array_b)"
   ]
  },
  {
   "cell_type": "markdown",
   "id": "c38fd532",
   "metadata": {},
   "source": [
    "## Slicing arrays (slice)\n",
    "#### we can get a slice of an array, it is like separate a sub-region"
   ]
  },
  {
   "cell_type": "code",
   "execution_count": 22,
   "id": "f3db4c05",
   "metadata": {},
   "outputs": [
    {
     "name": "stdout",
     "output_type": "stream",
     "text": [
      "[[11 12 13 14 15]\n",
      " [21 22 23 24 25]\n",
      " [31 32 33 34 35]\n",
      " [41 42 43 44 45]]\n",
      "\n",
      "[[12 13]\n",
      " [22 23]]\n"
     ]
    }
   ],
   "source": [
    "x_array = np.array([[11,12,13,14,15],[21,22,23,24,25],[31,32,33,34,35],[41,42,43,44,45]])\n",
    "print(x_array)\n",
    "\n",
    "slice_array = x_array[0:2,1:3] # El primer par de valores representa la fila, se toma la fila del 0 al 2, el segundo paramentro es del\n",
    "# 1 al 3 en las columnas\n",
    "print(\"\")\n",
    "print(slice_array)\n"
   ]
  },
  {
   "cell_type": "code",
   "execution_count": 23,
   "id": "4041e651",
   "metadata": {},
   "outputs": [
    {
     "name": "stdout",
     "output_type": "stream",
     "text": [
      "[[112  13]\n",
      " [ 22  23]]\n",
      "\n",
      "[[ 11 112  13  14  15]\n",
      " [ 21  22  23  24  25]\n",
      " [ 31  32  33  34  35]\n",
      " [ 41  42  43  44  45]]\n"
     ]
    }
   ],
   "source": [
    "slice_array[0][0] += 100\n",
    "print(slice_array)\n",
    "print(\"\")\n",
    "\n",
    "print(x_array)\n",
    "\n",
    "# Here we can see that a slice isnt an independet array, its a pointer, so if we modify some value in the slice in fact \n",
    "#we are modifying the main matrix\n",
    "\n"
   ]
  },
  {
   "cell_type": "code",
   "execution_count": 24,
   "id": "9f9c8ab1",
   "metadata": {},
   "outputs": [
    {
     "name": "stdout",
     "output_type": "stream",
     "text": [
      "[[1112 1013]\n",
      " [1022 1023]]\n",
      "\n",
      "[[ 11 112  13  14  15]\n",
      " [ 21  22  23  24  25]\n",
      " [ 31  32  33  34  35]\n",
      " [ 41  42  43  44  45]]\n"
     ]
    }
   ],
   "source": [
    "# We can transform a slice into a independent array\n",
    "\n",
    "new_array = np.array(slice_array)\n",
    "new_array += 1000\n",
    "\n",
    "\n",
    "print(new_array)\n",
    "\n",
    "print(\"\")\n",
    "\n",
    "print(x_array)"
   ]
  },
  {
   "cell_type": "code",
   "execution_count": 25,
   "id": "5c800044",
   "metadata": {},
   "outputs": [
    {
     "name": "stdout",
     "output_type": "stream",
     "text": [
      "\n",
      "[21 22 23 24 25]\n",
      "\n",
      "[[13 14 15]\n",
      " [23 24 25]\n",
      " [33 34 35]]\n"
     ]
    }
   ],
   "source": [
    "print(\"\")\n",
    "print(x_array[1, :])\n",
    "\n",
    "print(\"\")\n",
    "print(x_array[:3, 2:])"
   ]
  },
  {
   "cell_type": "markdown",
   "id": "bee129ee",
   "metadata": {},
   "source": [
    "## Type of data at numpy arrays\n"
   ]
  },
  {
   "cell_type": "code",
   "execution_count": 26,
   "id": "1866e1a8",
   "metadata": {},
   "outputs": [
    {
     "name": "stdout",
     "output_type": "stream",
     "text": [
      "int32\n"
     ]
    }
   ],
   "source": [
    "# when Its created an ndarray numpy detects the type of data\n",
    "\n",
    "ej1 = np.array([11,12])\n",
    "print(ej1.dtype)"
   ]
  },
  {
   "cell_type": "code",
   "execution_count": 27,
   "id": "7b7409ab",
   "metadata": {},
   "outputs": [
    {
     "name": "stdout",
     "output_type": "stream",
     "text": [
      "float64\n"
     ]
    }
   ],
   "source": [
    "ej2 = np.array([11.2, 11.3])\n",
    "print(ej2.dtype)"
   ]
  },
  {
   "cell_type": "code",
   "execution_count": 28,
   "id": "97cad87e",
   "metadata": {},
   "outputs": [
    {
     "name": "stdout",
     "output_type": "stream",
     "text": [
      "float64\n"
     ]
    }
   ],
   "source": [
    "ej3 = np.array([11,11.2])\n",
    "print(ej3.dtype)"
   ]
  },
  {
   "cell_type": "code",
   "execution_count": 29,
   "id": "8a581d8a",
   "metadata": {},
   "outputs": [
    {
     "name": "stdout",
     "output_type": "stream",
     "text": [
      "<U32\n"
     ]
    }
   ],
   "source": [
    "ej4 = np.array([\"numpy\", 3, 3.0])\n",
    "print(ej4.dtype)"
   ]
  },
  {
   "cell_type": "code",
   "execution_count": 30,
   "id": "ed574bae",
   "metadata": {},
   "outputs": [
    {
     "name": "stdout",
     "output_type": "stream",
     "text": [
      "float64\n"
     ]
    }
   ],
   "source": [
    "# It can be forced some data type \n",
    "\n",
    "ej5 = np.array([3,4], dtype = np.float64)\n",
    "print(ej5.dtype)"
   ]
  },
  {
   "cell_type": "code",
   "execution_count": 31,
   "id": "b3c3fa0c",
   "metadata": {},
   "outputs": [
    {
     "name": "stdout",
     "output_type": "stream",
     "text": [
      "int32\n",
      "\n",
      "[3 5]\n"
     ]
    }
   ],
   "source": [
    "ej6 = np.array([3.2,5.2], dtype = np.int32)\n",
    "print(ej6.dtype)\n",
    "print(\"\")\n",
    "print(ej6)"
   ]
  },
  {
   "cell_type": "markdown",
   "id": "7d86c6ab",
   "metadata": {},
   "source": [
    "\n",
    "## Aritmetic Operations"
   ]
  },
  {
   "cell_type": "code",
   "execution_count": 32,
   "id": "89fe8cd1",
   "metadata": {},
   "outputs": [],
   "source": [
    "# We can do operation between arrays that have the same shape\n",
    "\n",
    "x = np.array([[1, 2], [3, 4]], dtype = np.int64)\n",
    "y = np.array([[1, 1], [2,3]], dtype = np.int64)"
   ]
  },
  {
   "cell_type": "code",
   "execution_count": 33,
   "id": "fb80eab8",
   "metadata": {},
   "outputs": [
    {
     "name": "stdout",
     "output_type": "stream",
     "text": [
      "[[2 3]\n",
      " [5 7]]\n"
     ]
    }
   ],
   "source": [
    "#sum\n",
    "\n",
    "print(x + y)"
   ]
  },
  {
   "cell_type": "code",
   "execution_count": 34,
   "id": "cea4d482",
   "metadata": {},
   "outputs": [
    {
     "name": "stdout",
     "output_type": "stream",
     "text": [
      "[[0 1]\n",
      " [1 1]]\n"
     ]
    }
   ],
   "source": [
    "#subtraction\n",
    "\n",
    "print(x - y)"
   ]
  },
  {
   "cell_type": "code",
   "execution_count": 35,
   "id": "8f499f7b",
   "metadata": {},
   "outputs": [
    {
     "name": "stdout",
     "output_type": "stream",
     "text": [
      "[[ 1  2]\n",
      " [ 6 12]]\n"
     ]
    }
   ],
   "source": [
    "# multiplication\n",
    "\n",
    "print(x *y)"
   ]
  },
  {
   "cell_type": "code",
   "execution_count": 36,
   "id": "1b510f28",
   "metadata": {},
   "outputs": [
    {
     "name": "stdout",
     "output_type": "stream",
     "text": [
      "[[ 1  2]\n",
      " [ 9 64]]\n"
     ]
    }
   ],
   "source": [
    "#pow\n",
    "\n",
    "print(x**y)"
   ]
  },
  {
   "cell_type": "code",
   "execution_count": 37,
   "id": "eeeb869d",
   "metadata": {},
   "outputs": [
    {
     "name": "stdout",
     "output_type": "stream",
     "text": [
      "[[1.         2.        ]\n",
      " [1.5        1.33333333]]\n"
     ]
    }
   ],
   "source": [
    "# division\n",
    "\n",
    "print(x/y)"
   ]
  },
  {
   "cell_type": "markdown",
   "id": "1a977024",
   "metadata": {},
   "source": [
    "## Basic Statistical Operations"
   ]
  },
  {
   "cell_type": "code",
   "execution_count": 38,
   "id": "64d3ae5d",
   "metadata": {},
   "outputs": [
    {
     "name": "stdout",
     "output_type": "stream",
     "text": [
      "[[-10.19290514  16.10895901  -2.86164007  -9.54118377   7.44051743]\n",
      " [  0.94809885  32.58453715  15.68787059  -2.88634236   3.684666  ]]\n"
     ]
    }
   ],
   "source": [
    "# Create an array with random numbers in a range\n",
    "\n",
    "arr = 10 * np.random.randn(2,5)\n",
    "print(arr)\n",
    "\n",
    "stats_array = np.array([[10,9, 8, 7], [3, 2, 1, 0], [5, 4, 6, 5]])"
   ]
  },
  {
   "cell_type": "code",
   "execution_count": 86,
   "id": "93956b73",
   "metadata": {},
   "outputs": [
    {
     "name": "stdout",
     "output_type": "stream",
     "text": [
      "Max value: 10\n",
      "Min value: 0\n"
     ]
    }
   ],
   "source": [
    "## Get max and min value\n",
    "\n",
    "print(\"Max value:\", stats_array.max())\n",
    "print(\"Min value:\", stats_array.min())"
   ]
  },
  {
   "cell_type": "code",
   "execution_count": 39,
   "id": "f0dab350",
   "metadata": {},
   "outputs": [
    {
     "name": "stdout",
     "output_type": "stream",
     "text": [
      "5.0\n"
     ]
    }
   ],
   "source": [
    "#calculate mean(media)\n",
    "\n",
    "print(stats_array.mean())"
   ]
  },
  {
   "cell_type": "code",
   "execution_count": 40,
   "id": "da1c256d",
   "metadata": {},
   "outputs": [
    {
     "name": "stdout",
     "output_type": "stream",
     "text": [
      "[8.5 1.5 5. ]\n",
      "[6. 5. 5. 4.]\n"
     ]
    }
   ],
   "source": [
    "#calculate mean froam an specific row\n",
    "# IMPORTANT\n",
    "\n",
    "# axis 0 = columns\n",
    "# axis 1 = rows\n",
    "print(stats_array.mean( axis = 1 )) # This gonna print 3 mean because therea are 3 rows\n",
    "\n",
    "\n",
    "print(stats_array.mean(axis = 0))"
   ]
  },
  {
   "cell_type": "code",
   "execution_count": 41,
   "id": "bba638c7",
   "metadata": {},
   "outputs": [
    {
     "name": "stdout",
     "output_type": "stream",
     "text": [
      "[8.5 1.5 5. ]\n",
      "\n",
      "8.5\n",
      "1.5\n",
      "5.0\n"
     ]
    }
   ],
   "source": [
    "# Rows mean\n",
    "print(stats_array.mean( axis = 1 )) \n",
    "print( \"\")\n",
    "\n",
    "print(stats_array[0, :].mean())\n",
    "print(stats_array[1, :].mean())\n",
    "print(stats_array[2, :].mean())"
   ]
  },
  {
   "cell_type": "code",
   "execution_count": 42,
   "id": "c61d159f",
   "metadata": {},
   "outputs": [
    {
     "name": "stdout",
     "output_type": "stream",
     "text": [
      "[6. 5. 5. 4.]\n",
      "\n",
      "6.0\n",
      "5.0\n",
      "5.0\n",
      "4.0\n"
     ]
    }
   ],
   "source": [
    "#Columns mean\n",
    "\n",
    "print(stats_array.mean( axis = 0 )) \n",
    "print( \"\")\n",
    "\n",
    "print(stats_array[:, 0].mean())\n",
    "print(stats_array[:, 1].mean())\n",
    "print(stats_array[:, 2].mean())\n",
    "print(stats_array[:, 3].mean())"
   ]
  },
  {
   "cell_type": "code",
   "execution_count": 43,
   "id": "dda9b98e",
   "metadata": {},
   "outputs": [
    {
     "name": "stdout",
     "output_type": "stream",
     "text": [
      "<class 'numpy.ndarray'>\n",
      "[-0.9885148   0.34798198  0.32037298 -0.64042731  0.78713079  1.09744795\n",
      "  0.32284877  0.03411751  1.33481028  0.80280254]\n"
     ]
    }
   ],
   "source": [
    "#With this its created an array witn 10 random numbers\n",
    "\n",
    "messy_array = np.random.randn(10)\n",
    "print(type(messy_array))\n",
    "print(messy_array)"
   ]
  },
  {
   "cell_type": "code",
   "execution_count": 44,
   "id": "0f876a1f",
   "metadata": {},
   "outputs": [
    {
     "name": "stdout",
     "output_type": "stream",
     "text": [
      "[-0.9885148  -0.64042731  0.03411751  0.32037298  0.32284877  0.34798198\n",
      "  0.78713079  0.80280254  1.09744795  1.33481028]\n"
     ]
    }
   ],
   "source": [
    "# With sort() i sort the numbers of the array\n",
    "\n",
    "sorted_array = np.array(messy_array)\n",
    "sorted_array.sort()\n",
    "print(sorted_array)\n",
    "\n"
   ]
  },
  {
   "cell_type": "code",
   "execution_count": 45,
   "id": "d4e0aea8",
   "metadata": {},
   "outputs": [
    {
     "name": "stdout",
     "output_type": "stream",
     "text": [
      "[1 2 3 4]\n"
     ]
    }
   ],
   "source": [
    "## Searching unique elements in the array( VERY USEFUL)\n",
    "\n",
    "array = np.array([1,2 , 1, 3, 1, 2, 2, 3, 3, 4])\n",
    "print(np.unique(array))"
   ]
  },
  {
   "cell_type": "code",
   "execution_count": 46,
   "id": "cb42831c",
   "metadata": {},
   "outputs": [],
   "source": [
    "s1 = np.array([\"table\",  \"chair\",\"window\"])\n",
    "s2 = np.array([\"table\",  \"chair\",\"lamp\"])"
   ]
  },
  {
   "cell_type": "code",
   "execution_count": 47,
   "id": "f2b17213",
   "metadata": {},
   "outputs": [
    {
     "name": "stdout",
     "output_type": "stream",
     "text": [
      "['escritorio' 'silla']\n"
     ]
    }
   ],
   "source": [
    "#intersection\n",
    "\n",
    "print(np.intersect1d(s1, s2))"
   ]
  },
  {
   "cell_type": "code",
   "execution_count": 48,
   "id": "52da1fa4",
   "metadata": {},
   "outputs": [
    {
     "name": "stdout",
     "output_type": "stream",
     "text": [
      "['escritorio' 'lampara' 'mesa' 'silla']\n"
     ]
    }
   ],
   "source": [
    "# Union\n",
    "print(np.union1d(s1, s2))"
   ]
  },
  {
   "cell_type": "code",
   "execution_count": 49,
   "id": "7ef74afa",
   "metadata": {},
   "outputs": [
    {
     "name": "stdout",
     "output_type": "stream",
     "text": [
      "['mesa']\n",
      "\n",
      "['lampara']\n"
     ]
    }
   ],
   "source": [
    "#elements that there isnt in s2 of s1\n",
    "\n",
    "print(np.setdiff1d(s1, s2))\n",
    "\n",
    "print(\"\")\n",
    "#elements that there isnt in s1 of s2\n",
    "print(np.setdiff1d(s2, s1))"
   ]
  },
  {
   "cell_type": "code",
   "execution_count": 50,
   "id": "c651c88a",
   "metadata": {},
   "outputs": [
    {
     "name": "stdout",
     "output_type": "stream",
     "text": [
      "[ True  True False]\n"
     ]
    }
   ],
   "source": [
    "# Elements from s1 that there are in s2\n",
    "\n",
    "print(np.in1d(s1, s2))"
   ]
  },
  {
   "cell_type": "markdown",
   "id": "bec23f4b",
   "metadata": {},
   "source": [
    "## Frecuent Operations\n"
   ]
  },
  {
   "cell_type": "code",
   "execution_count": 51,
   "id": "7fa715f1",
   "metadata": {},
   "outputs": [
    {
     "name": "stdout",
     "output_type": "stream",
     "text": [
      "22\n",
      "22\n"
     ]
    }
   ],
   "source": [
    "# Sum all the elements from an array\n",
    "\n",
    "sum_array = np.array([[1,2,3], [4,3,9]])\n",
    "\n",
    "print(sum_array.sum())\n",
    "print(sum_array[:,:].sum())"
   ]
  },
  {
   "cell_type": "code",
   "execution_count": 81,
   "id": "fee66a4f",
   "metadata": {},
   "outputs": [
    {
     "data": {
      "text/plain": [
       "array([[ 3],\n",
       "       [ 4],\n",
       "       [ 5],\n",
       "       [ 7],\n",
       "       [10]], dtype=int64)"
      ]
     },
     "execution_count": 81,
     "metadata": {},
     "output_type": "execute_result"
    }
   ],
   "source": [
    "# np.argwhere, find indexes that comply with an contidional\n",
    "\n",
    "ex1 = np.array([1,2, 1, 0, 0, 0, 3, 0, 5, 1, 0])\n",
    "\n",
    "np.argwhere(ex1 != 0)\n"
   ]
  },
  {
   "cell_type": "code",
   "execution_count": 82,
   "id": "450187b1",
   "metadata": {},
   "outputs": [
    {
     "data": {
      "text/plain": [
       "array([[ 3],\n",
       "       [ 4],\n",
       "       [ 5],\n",
       "       [ 7],\n",
       "       [10]], dtype=int64)"
      ]
     },
     "execution_count": 82,
     "metadata": {},
     "output_type": "execute_result"
    }
   ],
   "source": [
    "np.argwhere(ex1 == 0)"
   ]
  },
  {
   "cell_type": "code",
   "execution_count": 53,
   "id": "bac370c8",
   "metadata": {},
   "outputs": [
    {
     "name": "stdout",
     "output_type": "stream",
     "text": [
      "[ 6 16]\n",
      "6\n",
      "16\n",
      "[ 5  5 12]\n",
      "5\n",
      "5\n",
      "12\n"
     ]
    }
   ],
   "source": [
    "# Sum rows\n",
    "\n",
    "print(np.sum(sum_array, axis = 1))\n",
    "\n",
    "print(sum_array[0, :].sum())\n",
    "print(sum_array[1, :].sum())\n",
    "\n",
    "# Sum columns\n",
    "\n",
    "print(np.sum(sum_array, axis = 0))\n",
    "print(sum_array[:, 0].sum())\n",
    "print(sum_array[:, 1].sum())\n",
    "print(sum_array[:, 2].sum())\n",
    "\n"
   ]
  },
  {
   "cell_type": "markdown",
   "id": "a0fadaef",
   "metadata": {},
   "source": [
    "## Vectorize a function (np.vectorize)\n",
    "\n",
    "### np.vectorize converts a normal python function(operating on scalars) into a function that can operate on NumPy arrays element by element"
   ]
  },
  {
   "cell_type": "code",
   "execution_count": 95,
   "id": "a9fbefd4",
   "metadata": {},
   "outputs": [],
   "source": [
    "# if a number is prime this funcition will return true, otherwise\n",
    "# will return false\n",
    "def is_prime(numero):\n",
    "    if numero <= 1:\n",
    "        return False\n",
    "    for i in range(2, int(numero ** 0.5) + 1):\n",
    "        if numero % i == 0:\n",
    "            return False\n",
    "    return True"
   ]
  },
  {
   "cell_type": "code",
   "execution_count": 96,
   "id": "78b3319b",
   "metadata": {},
   "outputs": [
    {
     "name": "stdout",
     "output_type": "stream",
     "text": [
      "[0 1 2 3 4 5 6 7 8 9]\n"
     ]
    }
   ],
   "source": [
    "matrix  = np.arange(10)\n",
    "print(matrix)"
   ]
  },
  {
   "cell_type": "code",
   "execution_count": 97,
   "id": "1fd60b34",
   "metadata": {},
   "outputs": [
    {
     "ename": "ValueError",
     "evalue": "The truth value of an array with more than one element is ambiguous. Use a.any() or a.all()",
     "output_type": "error",
     "traceback": [
      "\u001b[1;31m---------------------------------------------------------------------------\u001b[0m",
      "\u001b[1;31mValueError\u001b[0m                                Traceback (most recent call last)",
      "Cell \u001b[1;32mIn[97], line 2\u001b[0m\n\u001b[0;32m      1\u001b[0m \u001b[38;5;66;03m# if we use this function in a matrix it will generate an error\u001b[39;00m\n\u001b[1;32m----> 2\u001b[0m is_prime(matrix)\n",
      "Cell \u001b[1;32mIn[95], line 4\u001b[0m, in \u001b[0;36mis_prime\u001b[1;34m(numero)\u001b[0m\n\u001b[0;32m      3\u001b[0m \u001b[38;5;28;01mdef\u001b[39;00m \u001b[38;5;21mis_prime\u001b[39m(numero):\n\u001b[1;32m----> 4\u001b[0m     \u001b[38;5;28;01mif\u001b[39;00m numero \u001b[38;5;241m<\u001b[39m\u001b[38;5;241m=\u001b[39m \u001b[38;5;241m1\u001b[39m:\n\u001b[0;32m      5\u001b[0m         \u001b[38;5;28;01mreturn\u001b[39;00m \u001b[38;5;28;01mFalse\u001b[39;00m\n\u001b[0;32m      6\u001b[0m     \u001b[38;5;28;01mfor\u001b[39;00m i \u001b[38;5;129;01min\u001b[39;00m \u001b[38;5;28mrange\u001b[39m(\u001b[38;5;241m2\u001b[39m, \u001b[38;5;28mint\u001b[39m(numero \u001b[38;5;241m*\u001b[39m\u001b[38;5;241m*\u001b[39m \u001b[38;5;241m0.5\u001b[39m) \u001b[38;5;241m+\u001b[39m \u001b[38;5;241m1\u001b[39m):\n",
      "\u001b[1;31mValueError\u001b[0m: The truth value of an array with more than one element is ambiguous. Use a.any() or a.all()"
     ]
    }
   ],
   "source": [
    "# if we use this function in a matrix it will generate an error\n",
    "is_prime(matrix)\n"
   ]
  },
  {
   "cell_type": "code",
   "execution_count": 98,
   "id": "482e63fc",
   "metadata": {},
   "outputs": [
    {
     "name": "stdout",
     "output_type": "stream",
     "text": [
      "[False False  True  True False  True False  True False False]\n",
      "[2 3 5 7]\n"
     ]
    }
   ],
   "source": [
    "is_prime_vectorized = np.vectorize(is_prime)\n",
    "print(is_prime_vectorized(matrix))\n",
    "\n",
    "print(matrix[is_prime_vectorized(matrix)])"
   ]
  },
  {
   "cell_type": "markdown",
   "id": "473b85c2",
   "metadata": {},
   "source": [
    "## Reform an array"
   ]
  },
  {
   "cell_type": "code",
   "execution_count": 99,
   "id": "9c1f2729",
   "metadata": {},
   "outputs": [
    {
     "name": "stdout",
     "output_type": "stream",
     "text": [
      "[ 0  1  2  3  4  5  6  7  8  9 10 11 12 13 14 15 16 17 18 19]\n"
     ]
    },
    {
     "data": {
      "text/plain": [
       "(20,)"
      ]
     },
     "execution_count": 99,
     "metadata": {},
     "output_type": "execute_result"
    }
   ],
   "source": [
    "arr = np.arange(20)\n",
    "print(arr)\n",
    "arr.shape"
   ]
  },
  {
   "cell_type": "code",
   "execution_count": 100,
   "id": "a6fc4b0e",
   "metadata": {},
   "outputs": [
    {
     "name": "stdout",
     "output_type": "stream",
     "text": [
      "[[ 0  1  2  3  4]\n",
      " [ 5  6  7  8  9]\n",
      " [10 11 12 13 14]\n",
      " [15 16 17 18 19]]\n"
     ]
    }
   ],
   "source": [
    "# Its changed its shape\n",
    "\n",
    "reshped_arr = arr.reshape(4, 5)\n",
    "print(reshped_arr)"
   ]
  },
  {
   "cell_type": "code",
   "execution_count": 101,
   "id": "732d5cb5",
   "metadata": {},
   "outputs": [
    {
     "name": "stdout",
     "output_type": "stream",
     "text": [
      "[[[ 0  1]\n",
      "  [ 2  3]\n",
      "  [ 4  5]\n",
      "  [ 6  7]\n",
      "  [ 8  9]]\n",
      "\n",
      " [[10 11]\n",
      "  [12 13]\n",
      "  [14 15]\n",
      "  [16 17]\n",
      "  [18 19]]]\n"
     ]
    }
   ],
   "source": [
    "reshped_arr = arr.reshape(2, 5, 2)\n",
    "print(reshped_arr)"
   ]
  },
  {
   "cell_type": "markdown",
   "id": "40c412d9",
   "metadata": {},
   "source": [
    "# transposing an array\n",
    "\n",
    "#### Transportation exchanges rows with columns "
   ]
  },
  {
   "cell_type": "code",
   "execution_count": 102,
   "id": "eeb4b6a5",
   "metadata": {},
   "outputs": [
    {
     "name": "stdout",
     "output_type": "stream",
     "text": [
      "[[11 12]\n",
      " [21 22]]\n"
     ]
    },
    {
     "data": {
      "text/plain": [
       "array([[11, 21],\n",
       "       [12, 22]])"
      ]
     },
     "execution_count": 102,
     "metadata": {},
     "output_type": "execute_result"
    }
   ],
   "source": [
    "ex1 = np.array([[11, 12], [21, 22]])\n",
    "print(ex1)\n",
    "ex1.T\n",
    "\n"
   ]
  },
  {
   "cell_type": "code",
   "execution_count": 103,
   "id": "e7d2b1d3",
   "metadata": {},
   "outputs": [
    {
     "name": "stdout",
     "output_type": "stream",
     "text": [
      "[[11 12  4  5]\n",
      " [21 22  6  7]]\n"
     ]
    },
    {
     "data": {
      "text/plain": [
       "array([[11, 21],\n",
       "       [12, 22],\n",
       "       [ 4,  6],\n",
       "       [ 5,  7]])"
      ]
     },
     "execution_count": 103,
     "metadata": {},
     "output_type": "execute_result"
    }
   ],
   "source": [
    "ex1 = np.array([[11, 12, 4, 5], [21, 22, 6, 7]])\n",
    "print(ex1)\n",
    "ex1.T\n"
   ]
  },
  {
   "cell_type": "code",
   "execution_count": 104,
   "id": "89839f5c",
   "metadata": {},
   "outputs": [
    {
     "name": "stdout",
     "output_type": "stream",
     "text": [
      "[[11 12 13 14 15]\n",
      " [21 22 23 24 25]\n",
      " [31 32 33 34 35]\n",
      " [41 42 43 44 45]\n",
      " [51 52 53 54 55]]\n"
     ]
    },
    {
     "data": {
      "text/plain": [
       "array([[11, 21, 31, 41, 51],\n",
       "       [12, 22, 32, 42, 52],\n",
       "       [13, 23, 33, 43, 53],\n",
       "       [14, 24, 34, 44, 54],\n",
       "       [15, 25, 35, 45, 55]])"
      ]
     },
     "execution_count": 104,
     "metadata": {},
     "output_type": "execute_result"
    }
   ],
   "source": [
    "ex2 = np.array([[11, 12, 13, 14, 15], [21, 22, 23, 24, 25], [31, 32, 33, 34, 35], [41, 42, 43, 44, 45] ,[51, 52, 53, 54, 55]])\n",
    "print(ex2)\n",
    "ex2.T\n",
    "# Reflect it"
   ]
  },
  {
   "cell_type": "code",
   "execution_count": 105,
   "id": "01d1773a",
   "metadata": {},
   "outputs": [
    {
     "data": {
      "text/plain": [
       "array([[ 0.78268359,  1.98915253,  0.51255201, -0.91747811],\n",
       "       [ 0.2105304 ,  0.47528792,  0.42863698, -0.41927152],\n",
       "       [ 1.98514003,  1.63325704, -0.33943288,  0.26879637],\n",
       "       [ 0.88530238,  0.24173535,  1.5032002 ,  0.08106186]])"
      ]
     },
     "execution_count": 105,
     "metadata": {},
     "output_type": "execute_result"
    }
   ],
   "source": [
    "# WHERE, (VERY USEFUUUUL)\n",
    "mat = np.random.randn(4, 4)\n",
    "mat"
   ]
  },
  {
   "cell_type": "code",
   "execution_count": 106,
   "id": "35f692b6",
   "metadata": {},
   "outputs": [
    {
     "data": {
      "text/plain": [
       "array([[1000, 1000, 1000,    0],\n",
       "       [   0,    0,    0,    0],\n",
       "       [1000, 1000,    0,    0],\n",
       "       [1000,    0, 1000,    0]])"
      ]
     },
     "execution_count": 106,
     "metadata": {},
     "output_type": "execute_result"
    }
   ],
   "source": [
    "np.where( mat > 0.5, 1000, 0)\n",
    "\n",
    "# firs argument its the conditional, all the values that comply with the contiditios will remplaced with second argument, \n",
    "# otherwise, will be remplaced with the third argument\n"
   ]
  },
  {
   "cell_type": "code",
   "execution_count": 62,
   "id": "ae180a13",
   "metadata": {},
   "outputs": [
    {
     "data": {
      "text/plain": [
       "False"
      ]
     },
     "execution_count": 62,
     "metadata": {},
     "output_type": "execute_result"
    }
   ],
   "source": [
    "# Check if any of the values its true or false\n",
    "\n",
    "arr_bools = np.array([0, 0 , 0 , 0 ,0 ])\n",
    "\n",
    "arr_bools.any()\n",
    "\n"
   ]
  },
  {
   "cell_type": "code",
   "execution_count": 63,
   "id": "11274f45",
   "metadata": {},
   "outputs": [
    {
     "data": {
      "text/plain": [
       "True"
      ]
     },
     "execution_count": 63,
     "metadata": {},
     "output_type": "execute_result"
    }
   ],
   "source": [
    "# Any number that isnt 0 its considered true\n",
    "arr_bools = np.array([0, 0 , 0 , 0 ,1 ])\n",
    "\n",
    "arr_bools.any()"
   ]
  },
  {
   "cell_type": "code",
   "execution_count": 64,
   "id": "ef2af146",
   "metadata": {},
   "outputs": [
    {
     "data": {
      "text/plain": [
       "True"
      ]
     },
     "execution_count": 64,
     "metadata": {},
     "output_type": "execute_result"
    }
   ],
   "source": [
    "\n",
    "arr_bools = np.array([0, 0 , 0 , 0 , True ])\n",
    "\n",
    "arr_bools.any()"
   ]
  },
  {
   "cell_type": "code",
   "execution_count": 65,
   "id": "2a9765be",
   "metadata": {},
   "outputs": [
    {
     "data": {
      "text/plain": [
       "False"
      ]
     },
     "execution_count": 65,
     "metadata": {},
     "output_type": "execute_result"
    }
   ],
   "source": [
    "\n",
    "arr_bools = np.array([0, 0 , 0 , 0 ,False ])\n",
    "\n",
    "arr_bools.any()"
   ]
  },
  {
   "cell_type": "code",
   "execution_count": 66,
   "id": "9218dca8",
   "metadata": {},
   "outputs": [
    {
     "data": {
      "text/plain": [
       "True"
      ]
     },
     "execution_count": 66,
     "metadata": {},
     "output_type": "execute_result"
    }
   ],
   "source": [
    "# Any number that isnt 0 its considered true\n",
    "arr_bools = np.array([0, 0 , 0 , 0 ,5 ])\n",
    "\n",
    "arr_bools.any()"
   ]
  },
  {
   "cell_type": "code",
   "execution_count": 67,
   "id": "159bc847",
   "metadata": {},
   "outputs": [
    {
     "data": {
      "text/plain": [
       "True"
      ]
     },
     "execution_count": 67,
     "metadata": {},
     "output_type": "execute_result"
    }
   ],
   "source": [
    "# Check if all the elemnts are true\n",
    "\n",
    "arr_bools = np.array([1, 1 , 2 ])\n",
    "arr_bools.all()"
   ]
  },
  {
   "cell_type": "code",
   "execution_count": 68,
   "id": "3502065e",
   "metadata": {},
   "outputs": [
    {
     "data": {
      "text/plain": [
       "False"
      ]
     },
     "execution_count": 68,
     "metadata": {},
     "output_type": "execute_result"
    }
   ],
   "source": [
    "\n",
    "arr_bools = np.array([1, 1 , 0 ])\n",
    "arr_bools.all()"
   ]
  },
  {
   "cell_type": "markdown",
   "id": "b9c3c08a",
   "metadata": {},
   "source": [
    "## Meging data sets"
   ]
  },
  {
   "cell_type": "code",
   "execution_count": 69,
   "id": "2e5095e9",
   "metadata": {},
   "outputs": [
    {
     "name": "stdout",
     "output_type": "stream",
     "text": [
      "[[30 21]\n",
      " [ 7 49]]\n",
      "\n",
      "[[49 36]\n",
      " [ 8 43]]\n"
     ]
    }
   ],
   "source": [
    "array_k = np.random.randint(low = 2, high = 50, size = (2, 2)) # randint return random integers\n",
    "# Ramdon matrix wich lower its 2 and highter 50 and its shape its 2 x 2\n",
    "print(array_k)\n",
    "print(\"\")\n",
    "array_m = np.random.randint(low = 2, high = 50, size = (2, 2)) \n",
    "print(array_m)"
   ]
  },
  {
   "cell_type": "code",
   "execution_count": 70,
   "id": "298716b0",
   "metadata": {},
   "outputs": [
    {
     "data": {
      "text/plain": [
       "array([[30, 21],\n",
       "       [ 7, 49],\n",
       "       [49, 36],\n",
       "       [ 8, 43]])"
      ]
     },
     "execution_count": 70,
     "metadata": {},
     "output_type": "execute_result"
    }
   ],
   "source": [
    "np.vstack((array_k , array_m)) # This stack verticaly two arrays"
   ]
  },
  {
   "cell_type": "code",
   "execution_count": 71,
   "id": "ea6cec22",
   "metadata": {},
   "outputs": [
    {
     "data": {
      "text/plain": [
       "array([[30, 21, 49, 36],\n",
       "       [ 7, 49,  8, 43]])"
      ]
     },
     "execution_count": 71,
     "metadata": {},
     "output_type": "execute_result"
    }
   ],
   "source": [
    "np.hstack((array_k , array_m)) # This stack horizotaly two arrays"
   ]
  },
  {
   "cell_type": "code",
   "execution_count": 72,
   "id": "eced3ae2",
   "metadata": {},
   "outputs": [
    {
     "data": {
      "text/plain": [
       "array([[30, 21],\n",
       "       [ 7, 49],\n",
       "       [49, 36],\n",
       "       [ 8, 43]])"
      ]
     },
     "execution_count": 72,
     "metadata": {},
     "output_type": "execute_result"
    }
   ],
   "source": [
    "# concatenate, the same result as np.vstack\n",
    "np.concatenate([array_k, array_m], axis = 0)"
   ]
  },
  {
   "cell_type": "code",
   "execution_count": 73,
   "id": "dacd0163",
   "metadata": {},
   "outputs": [
    {
     "data": {
      "text/plain": [
       "array([[30, 21, 49, 36],\n",
       "       [ 7, 49,  8, 43]])"
      ]
     },
     "execution_count": 73,
     "metadata": {},
     "output_type": "execute_result"
    }
   ],
   "source": [
    "np.concatenate([array_k, array_m], axis = 1)"
   ]
  },
  {
   "cell_type": "markdown",
   "id": "59d729ff",
   "metadata": {},
   "source": [
    "## Broadcasting\n",
    "\n",
    "\n",
    "Para más detalles: \n",
    "https://docs.scipy.org/doc/numpy-1.10.1/user/basics.broadcasting.html"
   ]
  },
  {
   "cell_type": "code",
   "execution_count": 74,
   "id": "2f14e8b4",
   "metadata": {},
   "outputs": [
    {
     "name": "stdout",
     "output_type": "stream",
     "text": [
      "[[0. 0. 0. 0. 0.]\n",
      " [0. 0. 0. 0. 0.]\n",
      " [0. 0. 0. 0. 0.]\n",
      " [0. 0. 0. 0. 0.]\n",
      " [0. 0. 0. 0. 0.]]\n"
     ]
    }
   ],
   "source": [
    "base = np.zeros((5, 5))\n",
    "\n",
    "print(base)"
   ]
  },
  {
   "cell_type": "code",
   "execution_count": 75,
   "id": "eebc384c",
   "metadata": {},
   "outputs": [
    {
     "name": "stdout",
     "output_type": "stream",
     "text": [
      "[1 2 3 4 5]\n",
      "\n",
      "[[1. 2. 3. 4. 5.]\n",
      " [1. 2. 3. 4. 5.]\n",
      " [1. 2. 3. 4. 5.]\n",
      " [1. 2. 3. 4. 5.]\n",
      " [1. 2. 3. 4. 5.]]\n"
     ]
    }
   ],
   "source": [
    "# Propagation with rows\n",
    "row = np.array([1, 2, 3, 4, 5])\n",
    "\n",
    "print(row)\n",
    "print(\"\")\n",
    "\n",
    "print(base +row)"
   ]
  },
  {
   "cell_type": "code",
   "execution_count": 76,
   "id": "71e757ab",
   "metadata": {},
   "outputs": [
    {
     "name": "stdout",
     "output_type": "stream",
     "text": [
      "[[10 20 30 40 50]]\n",
      "\n",
      "[[10]\n",
      " [20]\n",
      " [30]\n",
      " [40]\n",
      " [50]]\n",
      "\n",
      "[[10. 10. 10. 10. 10.]\n",
      " [20. 20. 20. 20. 20.]\n",
      " [30. 30. 30. 30. 30.]\n",
      " [40. 40. 40. 40. 40.]\n",
      " [50. 50. 50. 50. 50.]]\n"
     ]
    }
   ],
   "source": [
    "# Propagation with columns\n",
    "\n",
    "column = np.array([[10, 20 ,30 , 40 , 50]])\n",
    "\n",
    "print(column) # this is a row\n",
    "\n",
    "print(\"\")\n",
    "\n",
    "column = column.T\n",
    "print(column)\n",
    "\n",
    "print(\"\")\n",
    "\n",
    "print( base + column)"
   ]
  },
  {
   "cell_type": "code",
   "execution_count": 77,
   "id": "1e3bad1e",
   "metadata": {},
   "outputs": [
    {
     "name": "stdout",
     "output_type": "stream",
     "text": [
      "[[1. 1. 1. 1. 1.]\n",
      " [1. 1. 1. 1. 1.]\n",
      " [1. 1. 1. 1. 1.]\n",
      " [1. 1. 1. 1. 1.]\n",
      " [1. 1. 1. 1. 1.]]\n"
     ]
    }
   ],
   "source": [
    "# With one element\n",
    "\n",
    "one = np.array([1])\n",
    "print(base + one)"
   ]
  },
  {
   "cell_type": "markdown",
   "id": "0e9269f0",
   "metadata": {},
   "source": [
    "## Save arrays in disc / load array form disc"
   ]
  },
  {
   "cell_type": "code",
   "execution_count": 78,
   "id": "d2110908",
   "metadata": {},
   "outputs": [],
   "source": [
    "x = np.array([22, 23, 24])"
   ]
  },
  {
   "cell_type": "code",
   "execution_count": 79,
   "id": "c43d2cb7",
   "metadata": {},
   "outputs": [],
   "source": [
    "np.save('array_importante.npy', x)"
   ]
  },
  {
   "cell_type": "code",
   "execution_count": null,
   "id": "8c27ccda",
   "metadata": {},
   "outputs": [],
   "source": [
    "old_array = np.load('array_impotant.npy')"
   ]
  },
  {
   "cell_type": "code",
   "execution_count": 84,
   "id": "5b038764",
   "metadata": {},
   "outputs": [
    {
     "name": "stdout",
     "output_type": "stream",
     "text": [
      "[[[ 0.87598599  0.42444647 -0.03759558]\n",
      "  [ 0.00540827 -0.59433873  0.61771148]\n",
      "  [-0.11720367 -0.10302732  0.15200499]]\n",
      "\n",
      " [[-0.87829937 -0.03281092  0.84253138]\n",
      "  [-0.01142067  0.78989797 -1.56322421]\n",
      "  [ 0.42979955  1.58947095  0.43182237]]\n",
      "\n",
      " [[ 0.04975303  0.1159695   0.88549538]\n",
      "  [ 0.57789202 -0.94908658 -0.39564466]\n",
      "  [-0.12192654 -0.56276897  0.28289819]]]\n"
     ]
    }
   ],
   "source": [
    "matriz_r = np.random.randn(3, 3, 3)\n",
    "print(matriz_r)"
   ]
  },
  {
   "cell_type": "code",
   "execution_count": null,
   "id": "e1dc767f",
   "metadata": {},
   "outputs": [],
   "source": []
  },
  {
   "cell_type": "code",
   "execution_count": null,
   "id": "fd0eff8d",
   "metadata": {},
   "outputs": [],
   "source": []
  }
 ],
 "metadata": {
  "kernelspec": {
   "display_name": "Python 3 (ipykernel)",
   "language": "python",
   "name": "python3"
  },
  "language_info": {
   "codemirror_mode": {
    "name": "ipython",
    "version": 3
   },
   "file_extension": ".py",
   "mimetype": "text/x-python",
   "name": "python",
   "nbconvert_exporter": "python",
   "pygments_lexer": "ipython3",
   "version": "3.11.5"
  }
 },
 "nbformat": 4,
 "nbformat_minor": 5
}

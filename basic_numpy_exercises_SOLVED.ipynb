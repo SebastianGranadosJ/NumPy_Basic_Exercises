{
 "cells": [
  {
   "cell_type": "markdown",
   "id": "f2968bef",
   "metadata": {},
   "source": [
    "# Basic NumPy exercises\n",
    "\n",
    "## Here you can find some basic Numpy exercises to practice your NumPy skills."
   ]
  },
  {
   "cell_type": "markdown",
   "id": "97a9e2f7",
   "metadata": {},
   "source": [
    "### Exercise 1: Matrix Manipulation\n",
    "\n",
    "##### Create a 3x3 matrix with  random integer values between 1 and 10. Then, change all the even values to 0."
   ]
  },
  {
   "cell_type": "code",
   "execution_count": 52,
   "id": "5ca1e81a",
   "metadata": {},
   "outputs": [],
   "source": [
    "import numpy as np"
   ]
  },
  {
   "cell_type": "code",
   "execution_count": 53,
   "id": "f7bd1d07",
   "metadata": {},
   "outputs": [
    {
     "data": {
      "text/plain": [
       "array([[1, 1, 7],\n",
       "       [6, 6, 7],\n",
       "       [3, 5, 8]])"
      ]
     },
     "execution_count": 53,
     "metadata": {},
     "output_type": "execute_result"
    }
   ],
   "source": [
    "matrix = np.random.randint( low = 1, high = 11, size = (3, 3))\n",
    "matrix"
   ]
  },
  {
   "cell_type": "code",
   "execution_count": 54,
   "id": "fd44762f",
   "metadata": {},
   "outputs": [
    {
     "name": "stdout",
     "output_type": "stream",
     "text": [
      "[[1 1 7]\n",
      " [0 0 7]\n",
      " [3 5 0]]\n"
     ]
    }
   ],
   "source": [
    "matrix[matrix % 2 == 0] = 0\n",
    "print(matrix)"
   ]
  },
  {
   "cell_type": "markdown",
   "id": "d79a5753",
   "metadata": {},
   "source": [
    "### Exercise 2: Statistics and Data Manipulation\n",
    "\n",
    "##### Generate two 4x4 matrices with random integer numbers between 1 and 20. Find the maximum value in one matrix and the minimum value in the other matrix, then calculate the sum of these two values.\n"
   ]
  },
  {
   "cell_type": "code",
   "execution_count": 55,
   "id": "45301852",
   "metadata": {},
   "outputs": [
    {
     "name": "stdout",
     "output_type": "stream",
     "text": [
      "Matrix A: \n",
      "\n",
      " [[ 5  8  2  9]\n",
      " [11 14 18  1]\n",
      " [16 14 16 17]\n",
      " [10 14 20  8]]\n",
      "Matrix B: \n",
      "\n",
      " [[15 10 16 19]\n",
      " [ 5 15  6  9]\n",
      " [20  7 20  4]\n",
      " [15  1  6 13]]\n"
     ]
    }
   ],
   "source": [
    "A = np.random.randint(low = 1, high = 21, size = (4, 4) )\n",
    "B = np.random.randint(low = 1, high = 21, size = (4, 4) )\n",
    "\n",
    "print(\"Matrix A: \\n\\n\", A)\n",
    "\n",
    "print(\"Matrix B: \\n\\n\", B)\n",
    "\n"
   ]
  },
  {
   "cell_type": "code",
   "execution_count": 56,
   "id": "9f6ba115",
   "metadata": {},
   "outputs": [
    {
     "name": "stdout",
     "output_type": "stream",
     "text": [
      "A max value: 20\n",
      "B max value: 20\n",
      "Sum: 40\n"
     ]
    }
   ],
   "source": [
    "print(\"A max value:\", A.max())\n",
    "print(\"B max value:\", B.max())\n",
    "print(\"Sum:\", A.max() + B.max())"
   ]
  },
  {
   "cell_type": "markdown",
   "id": "d7815f7a",
   "metadata": {},
   "source": [
    "### Exercise 3: Operations and Slicing\n",
    "\n",
    "##### Create a 5x5 matrix with random integer values between 1 and 100. Perform the following operations:\n",
    "\n",
    "##### - Find the sum of all elements in the matrix.\n",
    "##### - Calculate the mean of each row.\n",
    "##### - Obtain the second column of the matrix and calculate its mean."
   ]
  },
  {
   "cell_type": "code",
   "execution_count": 57,
   "id": "506ee2a2",
   "metadata": {},
   "outputs": [
    {
     "name": "stdout",
     "output_type": "stream",
     "text": [
      "[[76 83 88 62 45]\n",
      " [28 37 72 25 33]\n",
      " [79  2 80  5 16]\n",
      " [29 59 55 73 29]\n",
      " [ 6 14 80 72 60]]\n"
     ]
    }
   ],
   "source": [
    "matrix = np.random.randint(low = 1, high = 101, size = (5, 5))\n",
    "print(matrix)"
   ]
  },
  {
   "cell_type": "code",
   "execution_count": 58,
   "id": "3f5cb1a1",
   "metadata": {},
   "outputs": [
    {
     "name": "stdout",
     "output_type": "stream",
     "text": [
      "Sum of all matrix elements: 1208\n"
     ]
    }
   ],
   "source": [
    "print(\"Sum of all matrix elements:\", matrix.sum())"
   ]
  },
  {
   "cell_type": "code",
   "execution_count": 59,
   "id": "dfe4b017",
   "metadata": {},
   "outputs": [
    {
     "name": "stdout",
     "output_type": "stream",
     "text": [
      "Mean of each row: [70.8 39.  36.4 49.  46.4]\n"
     ]
    }
   ],
   "source": [
    "print(\"Mean of each row:\", matrix.mean( axis = 1))"
   ]
  },
  {
   "cell_type": "code",
   "execution_count": 60,
   "id": "32f6c816",
   "metadata": {},
   "outputs": [
    {
     "name": "stdout",
     "output_type": "stream",
     "text": [
      "[83 37  2 59 14]\n"
     ]
    }
   ],
   "source": [
    "second_column = matrix[:, 1]\n",
    "print(second_column)"
   ]
  },
  {
   "cell_type": "code",
   "execution_count": 61,
   "id": "09e41b04",
   "metadata": {},
   "outputs": [
    {
     "name": "stdout",
     "output_type": "stream",
     "text": [
      "Second column mean:  39.0\n"
     ]
    }
   ],
   "source": [
    "print(\"Second column mean: \", second_column.mean())"
   ]
  },
  {
   "cell_type": "markdown",
   "id": "7974e67f",
   "metadata": {},
   "source": [
    "### Exercise 4: Broadcasting and Reshaping\n",
    "\n",
    "##### Create two matrices: one of size (3, 3) and another of size (3, 1). Perform the addition operation between these two matrices using broadcasting."
   ]
  },
  {
   "cell_type": "code",
   "execution_count": 62,
   "id": "66402e73",
   "metadata": {},
   "outputs": [
    {
     "name": "stdout",
     "output_type": "stream",
     "text": [
      "[[ 1  2  5]\n",
      " [ 5  0  7]\n",
      " [10  3  8]]\n",
      "\n",
      "[[4]\n",
      " [6]\n",
      " [1]]\n",
      "\n",
      "[[ 5  6  9]\n",
      " [11  6 13]\n",
      " [11  4  9]]\n"
     ]
    }
   ],
   "source": [
    "matrix_1 = np.random.randint(low= 0, high = 11, size = (3, 3))\n",
    "print(matrix_1)\n",
    "print(\"\")\n",
    "\n",
    "matrix_2 = np.random.randint(low= 0, high = 11, size = (3, 1))\n",
    "print(matrix_2)\n",
    "print(\"\")\n",
    "\n",
    "print(matrix_1 + matrix_2)\n"
   ]
  },
  {
   "cell_type": "markdown",
   "id": "febfb57c",
   "metadata": {},
   "source": [
    "### Exercise 5: Custom Functions and Filtering\n",
    "\n",
    "##### Create a 6x6 matrix with random integers between 1 and 50. Then, define a function that returns True if a number is prime and False otherwise. Apply this function to all elements of the matrix and filter out the prime numbers."
   ]
  },
  {
   "cell_type": "code",
   "execution_count": 63,
   "id": "9e26389a",
   "metadata": {},
   "outputs": [
    {
     "name": "stdout",
     "output_type": "stream",
     "text": [
      "[[33 17 38 12 11  1]\n",
      " [12  2 20 19  4 45]\n",
      " [ 1  6 41 44 10  2]\n",
      " [20 48 43 45  3 28]\n",
      " [46 10 40 11 19 50]\n",
      " [38 21 18 30  8 25]]\n"
     ]
    }
   ],
   "source": [
    "matrix = np.random.randint(low = 1, high = 51, size = (6, 6))\n",
    "print(matrix)\n"
   ]
  },
  {
   "cell_type": "code",
   "execution_count": 64,
   "id": "e0a743f9",
   "metadata": {},
   "outputs": [],
   "source": [
    "def is_prime(numero):\n",
    "    if numero <= 1:\n",
    "        return False\n",
    "    for i in range(2, int(numero ** 0.5) + 1):\n",
    "        if numero % i == 0:\n",
    "            return False\n",
    "    return True"
   ]
  },
  {
   "cell_type": "code",
   "execution_count": 65,
   "id": "2f15033e",
   "metadata": {},
   "outputs": [
    {
     "name": "stdout",
     "output_type": "stream",
     "text": [
      "[17 11  2 19 41  2 43  3 11 19]\n"
     ]
    }
   ],
   "source": [
    "is_prime_vectorized = np.vectorize(is_prime)\n",
    "\n",
    "print(matrix[is_prime_vectorized(matrix)])\n"
   ]
  }
 ],
 "metadata": {
  "kernelspec": {
   "display_name": "Python 3 (ipykernel)",
   "language": "python",
   "name": "python3"
  },
  "language_info": {
   "codemirror_mode": {
    "name": "ipython",
    "version": 3
   },
   "file_extension": ".py",
   "mimetype": "text/x-python",
   "name": "python",
   "nbconvert_exporter": "python",
   "pygments_lexer": "ipython3",
   "version": "3.11.5"
  }
 },
 "nbformat": 4,
 "nbformat_minor": 5
}

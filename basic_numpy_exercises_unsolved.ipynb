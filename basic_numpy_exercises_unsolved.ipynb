{
 "cells": [
  {
   "cell_type": "markdown",
   "id": "f2968bef",
   "metadata": {},
   "source": [
    "# Basic NumPy exercises\n",
    "\n",
    "## Here you can find some basic Numpy exercises to practice your NumPy skills."
   ]
  },
  {
   "cell_type": "markdown",
   "id": "97a9e2f7",
   "metadata": {},
   "source": [
    "### Exercise 1: Matrix Manipulation\n",
    "\n",
    "##### Create a 3x3 matrix with  random integer values between 1 and 10. Then, change all the even values to 0."
   ]
  },
  {
   "cell_type": "code",
   "execution_count": 1,
   "id": "5ca1e81a",
   "metadata": {},
   "outputs": [],
   "source": [
    "import numpy as np"
   ]
  },
  {
   "cell_type": "code",
   "execution_count": null,
   "id": "f7bd1d07",
   "metadata": {},
   "outputs": [],
   "source": []
  },
  {
   "cell_type": "code",
   "execution_count": null,
   "id": "fd44762f",
   "metadata": {},
   "outputs": [],
   "source": []
  },
  {
   "cell_type": "markdown",
   "id": "d79a5753",
   "metadata": {},
   "source": [
    "### Exercise 2: Statistics and Data Manipulation\n",
    "\n",
    "##### Generate two 4x4 matrices with random integer numbers between 1 and 20. Find the maximum value in one matrix and the minimum value in the other matrix, then calculate the sum of these two values.\n"
   ]
  },
  {
   "cell_type": "code",
   "execution_count": null,
   "id": "45301852",
   "metadata": {},
   "outputs": [],
   "source": [
    "\n",
    "\n"
   ]
  },
  {
   "cell_type": "code",
   "execution_count": null,
   "id": "9f6ba115",
   "metadata": {},
   "outputs": [],
   "source": []
  },
  {
   "cell_type": "markdown",
   "id": "d7815f7a",
   "metadata": {},
   "source": [
    "### Exercise 3: Operations and Slicing\n",
    "\n",
    "##### Create a 5x5 matrix with random integer values between 1 and 100. Perform the following operations:\n",
    "\n",
    "##### - Find the sum of all elements in the matrix.\n",
    "##### - Calculate the mean of each row.\n",
    "##### - Obtain the second column of the matrix and calculate its mean."
   ]
  },
  {
   "cell_type": "code",
   "execution_count": null,
   "id": "506ee2a2",
   "metadata": {},
   "outputs": [],
   "source": []
  },
  {
   "cell_type": "code",
   "execution_count": null,
   "id": "3f5cb1a1",
   "metadata": {},
   "outputs": [],
   "source": []
  },
  {
   "cell_type": "code",
   "execution_count": null,
   "id": "dfe4b017",
   "metadata": {},
   "outputs": [],
   "source": []
  },
  {
   "cell_type": "code",
   "execution_count": null,
   "id": "32f6c816",
   "metadata": {},
   "outputs": [],
   "source": []
  },
  {
   "cell_type": "code",
   "execution_count": null,
   "id": "09e41b04",
   "metadata": {},
   "outputs": [],
   "source": []
  },
  {
   "cell_type": "markdown",
   "id": "7974e67f",
   "metadata": {},
   "source": [
    "### Exercise 4: Broadcasting and Reshaping\n",
    "\n",
    "##### Create two matrices: one of size (3, 3) and another of size (3, 1). Perform the addition operation between these two matrices using broadcasting."
   ]
  },
  {
   "cell_type": "code",
   "execution_count": null,
   "id": "66402e73",
   "metadata": {},
   "outputs": [],
   "source": [
    "\n"
   ]
  },
  {
   "cell_type": "markdown",
   "id": "febfb57c",
   "metadata": {},
   "source": [
    "### Exercise 5: Custom Functions and Filtering\n",
    "\n",
    "##### Create a 6x6 matrix with random integers between 1 and 50. Then, define a function that returns True if a number is prime and False otherwise. Apply this function to all elements of the matrix and filter out the prime numbers."
   ]
  },
  {
   "cell_type": "code",
   "execution_count": null,
   "id": "9e26389a",
   "metadata": {},
   "outputs": [],
   "source": []
  },
  {
   "cell_type": "code",
   "execution_count": null,
   "id": "e0a743f9",
   "metadata": {},
   "outputs": [],
   "source": []
  },
  {
   "cell_type": "code",
   "execution_count": null,
   "id": "2f15033e",
   "metadata": {},
   "outputs": [],
   "source": []
  },
  {
   "cell_type": "code",
   "execution_count": null,
   "id": "6e4dbbe0",
   "metadata": {},
   "outputs": [],
   "source": []
  },
  {
   "cell_type": "code",
   "execution_count": null,
   "id": "005042e0",
   "metadata": {},
   "outputs": [],
   "source": []
  }
 ],
 "metadata": {
  "kernelspec": {
   "display_name": "Python 3 (ipykernel)",
   "language": "python",
   "name": "python3"
  },
  "language_info": {
   "codemirror_mode": {
    "name": "ipython",
    "version": 3
   },
   "file_extension": ".py",
   "mimetype": "text/x-python",
   "name": "python",
   "nbconvert_exporter": "python",
   "pygments_lexer": "ipython3",
   "version": "3.11.5"
  }
 },
 "nbformat": 4,
 "nbformat_minor": 5
}
